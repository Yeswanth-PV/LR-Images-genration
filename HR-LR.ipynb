{
 "cells": [
  {
   "cell_type": "code",
   "execution_count": 24,
   "id": "41cc36b7",
   "metadata": {},
   "outputs": [],
   "source": [
    "#import necessary packages\n",
    "import tensorflow\n",
    "import cv2\n",
    "import numpy as np\n",
    "import os\n"
   ]
  },
  {
   "cell_type": "code",
   "execution_count": 31,
   "id": "f7ba5dc1",
   "metadata": {},
   "outputs": [],
   "source": [
    "# prepare degraded images by introducing quality distortion via resizing \n",
    "\n",
    "def prepare_images(path,factor):  #path tells path of image, factor tells degrading by factor 2 or 3 \n",
    "    \n",
    "     # loop through the files in the directory\n",
    "    for file in os.listdir(path):\n",
    "        \n",
    "        # open the file\n",
    "        img = cv2.imread(path + '/' + file)\n",
    "        \n",
    "        # find old and new image dimensions\n",
    "        h, w, _ = img.shape\n",
    "        new_height = h // factor\n",
    "        new_width = w // factor\n",
    "        \n",
    "        # resize the image - down\n",
    "        img = cv2.resize(img, (new_width, new_height), interpolation = cv2.INTER_CUBIC) #INTER_LINEAR, BI_LINEAR,INTER_CUBIC\n",
    "        \n",
    "        # resize the image - up\n",
    "        img = cv2.resize(img, (w, h), interpolation = cv2.INTER_CUBIC)  \n",
    "        \n",
    "        # save the image\n",
    "        print('Saving {}'.format(file))\n",
    "        cv2.imwrite('images6/{}'.format(file), img)"
   ]
  },
  {
   "cell_type": "code",
   "execution_count": 32,
   "id": "991b0225",
   "metadata": {},
   "outputs": [
    {
     "name": "stdout",
     "output_type": "stream",
     "text": [
      "Saving early_blight_potato.JPG\n",
      "Saving healthy_potato.JPG\n",
      "Saving late_blight_potato.JPG\n",
      "Saving Tomato_Bacterial_spot.JPG\n",
      "Saving Tomato_Early_blight.JPG\n",
      "Saving Tomato_healthy.JPG\n",
      "Saving Tomato_Late_blight.JPG\n",
      "Saving Tomato_Leaf_Mold.JPG\n",
      "Saving Tomato_Septoria_leaf_spot.JPG\n",
      "Saving Tomato_Spider_mites_Two_spotted_spider_mite.JPG\n",
      "Saving Tomato__Target_Spot.JPG\n",
      "Saving Tomato__Tomato_mosaic_virus.JPG\n",
      "Saving Tomato__Tomato_YellowLeaf__Curl_Virus.JPG\n"
     ]
    }
   ],
   "source": [
    "prepare_images('source/', 6)"
   ]
  },
  {
   "cell_type": "code",
   "execution_count": null,
   "id": "e8a2bfda",
   "metadata": {},
   "outputs": [],
   "source": []
  }
 ],
 "metadata": {
  "kernelspec": {
   "display_name": "Python 3 (ipykernel)",
   "language": "python",
   "name": "python3"
  },
  "language_info": {
   "codemirror_mode": {
    "name": "ipython",
    "version": 3
   },
   "file_extension": ".py",
   "mimetype": "text/x-python",
   "name": "python",
   "nbconvert_exporter": "python",
   "pygments_lexer": "ipython3",
   "version": "3.9.7"
  }
 },
 "nbformat": 4,
 "nbformat_minor": 5
}
